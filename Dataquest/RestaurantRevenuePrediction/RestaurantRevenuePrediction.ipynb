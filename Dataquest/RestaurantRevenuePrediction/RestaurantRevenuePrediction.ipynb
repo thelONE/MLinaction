{
 "cells": [
  {
   "cell_type": "markdown",
   "metadata": {},
   "source": [
    "<h1>Restaurant Revenue Prediction</h1>"
   ]
  },
  {
   "cell_type": "markdown",
   "metadata": {},
   "source": [
    "Competition informatiotn:\n",
    "https://www.kaggle.com/c/restaurant-revenue-prediction\n",
    "\n",
    "Solution source:\n",
    "https://github.com/bensolucky/TFI/blob/master/train.ipynb"
   ]
  },
  {
   "cell_type": "code",
   "execution_count": 29,
   "metadata": {
    "collapsed": false
   },
   "outputs": [
    {
     "name": "stdout",
     "output_type": "stream",
     "text": [
      "Populating the interactive namespace from numpy and matplotlib\n"
     ]
    },
    {
     "name": "stderr",
     "output_type": "stream",
     "text": [
      "D:\\Program\\Anaconda2\\lib\\site-packages\\IPython\\core\\magics\\pylab.py:161: UserWarning: pylab import has clobbered these variables: ['test', 'grid']\n",
      "`%matplotlib` prevents importing * from pylab and numpy\n",
      "  \"\\n`%matplotlib` prevents importing * from pylab and numpy\"\n"
     ]
    }
   ],
   "source": [
    "\n",
    "%pylab inline\n",
    "\n",
    "import pandas as pd\n",
    "import numpy as np\n",
    "import datetime\n",
    "import matplotlib.pyplot as plt\n",
    "\n",
    "from sklearn.cross_validation import LeaveOneOut\n",
    "from sklearn.grid_search import (GridSearchCV, RandomizedSearchCV)\n",
    "from sklearn.metrics import (mean_squared_error, mean_absolute_error)\n",
    "from sklearn.preprocessing import MinMaxScaler\n",
    "from sklearn.ensemble import ExtraTreesClassifier # Used for imputing rare / missing values\n",
    "\n",
    "# Regressors considered:\n",
    "from sklearn.svm import SVR\n",
    "from sklearn.neighbors import KNeighborsRegressor\n",
    "from sklearn.linear_model import Ridge # only model used for final submission"
   ]
  },
  {
   "cell_type": "code",
   "execution_count": 30,
   "metadata": {
    "collapsed": false
   },
   "outputs": [
    {
     "name": "stdout",
     "output_type": "stream",
     "text": [
      "Train Dimensions:\n",
      "(137, 42)\n",
      "Test Dimensions:\n",
      "(100000, 41)\n"
     ]
    },
    {
     "data": {
      "text/html": [
       "<div>\n",
       "<table border=\"1\" class=\"dataframe\">\n",
       "  <thead>\n",
       "    <tr style=\"text-align: right;\">\n",
       "      <th></th>\n",
       "      <th>P1</th>\n",
       "      <th>P10</th>\n",
       "      <th>P11</th>\n",
       "      <th>P12</th>\n",
       "      <th>P13</th>\n",
       "      <th>P14</th>\n",
       "      <th>P15</th>\n",
       "      <th>P16</th>\n",
       "      <th>P17</th>\n",
       "      <th>P18</th>\n",
       "      <th>...</th>\n",
       "      <th>P35</th>\n",
       "      <th>P36</th>\n",
       "      <th>P37</th>\n",
       "      <th>P4</th>\n",
       "      <th>P5</th>\n",
       "      <th>P6</th>\n",
       "      <th>P7</th>\n",
       "      <th>P8</th>\n",
       "      <th>P9</th>\n",
       "      <th>revenue</th>\n",
       "    </tr>\n",
       "  </thead>\n",
       "  <tbody>\n",
       "    <tr>\n",
       "      <th>count</th>\n",
       "      <td>100137.000000</td>\n",
       "      <td>100137.000000</td>\n",
       "      <td>100137.000000</td>\n",
       "      <td>100137.000000</td>\n",
       "      <td>100137.000000</td>\n",
       "      <td>100137.000000</td>\n",
       "      <td>100137.000000</td>\n",
       "      <td>100137.000000</td>\n",
       "      <td>100137.000000</td>\n",
       "      <td>100137.000000</td>\n",
       "      <td>...</td>\n",
       "      <td>100137.000000</td>\n",
       "      <td>100137.000000</td>\n",
       "      <td>100137.000000</td>\n",
       "      <td>100137.000000</td>\n",
       "      <td>100137.000000</td>\n",
       "      <td>100137.000000</td>\n",
       "      <td>100137.000000</td>\n",
       "      <td>100137.000000</td>\n",
       "      <td>100137.000000</td>\n",
       "      <td>1.370000e+02</td>\n",
       "    </tr>\n",
       "    <tr>\n",
       "      <th>mean</th>\n",
       "      <td>4.087930</td>\n",
       "      <td>5.459011</td>\n",
       "      <td>3.311653</td>\n",
       "      <td>5.061765</td>\n",
       "      <td>5.086621</td>\n",
       "      <td>1.280276</td>\n",
       "      <td>1.305641</td>\n",
       "      <td>1.747336</td>\n",
       "      <td>1.156715</td>\n",
       "      <td>1.708789</td>\n",
       "      <td>...</td>\n",
       "      <td>1.833099</td>\n",
       "      <td>1.969222</td>\n",
       "      <td>0.973696</td>\n",
       "      <td>4.395992</td>\n",
       "      <td>1.989614</td>\n",
       "      <td>2.882551</td>\n",
       "      <td>5.300678</td>\n",
       "      <td>4.931304</td>\n",
       "      <td>5.251645</td>\n",
       "      <td>4.453533e+06</td>\n",
       "    </tr>\n",
       "    <tr>\n",
       "      <th>std</th>\n",
       "      <td>2.813085</td>\n",
       "      <td>1.763709</td>\n",
       "      <td>2.067903</td>\n",
       "      <td>1.765647</td>\n",
       "      <td>0.979414</td>\n",
       "      <td>2.497106</td>\n",
       "      <td>2.167272</td>\n",
       "      <td>3.172481</td>\n",
       "      <td>2.432137</td>\n",
       "      <td>3.030907</td>\n",
       "      <td>...</td>\n",
       "      <td>3.229052</td>\n",
       "      <td>3.806280</td>\n",
       "      <td>1.677427</td>\n",
       "      <td>1.035796</td>\n",
       "      <td>1.065518</td>\n",
       "      <td>1.532502</td>\n",
       "      <td>2.178739</td>\n",
       "      <td>1.718699</td>\n",
       "      <td>1.702825</td>\n",
       "      <td>2.576072e+06</td>\n",
       "    </tr>\n",
       "    <tr>\n",
       "      <th>min</th>\n",
       "      <td>1.000000</td>\n",
       "      <td>4.000000</td>\n",
       "      <td>1.000000</td>\n",
       "      <td>2.000000</td>\n",
       "      <td>3.000000</td>\n",
       "      <td>0.000000</td>\n",
       "      <td>0.000000</td>\n",
       "      <td>0.000000</td>\n",
       "      <td>0.000000</td>\n",
       "      <td>0.000000</td>\n",
       "      <td>...</td>\n",
       "      <td>0.000000</td>\n",
       "      <td>0.000000</td>\n",
       "      <td>0.000000</td>\n",
       "      <td>2.000000</td>\n",
       "      <td>1.000000</td>\n",
       "      <td>1.000000</td>\n",
       "      <td>1.000000</td>\n",
       "      <td>1.000000</td>\n",
       "      <td>4.000000</td>\n",
       "      <td>1.149870e+06</td>\n",
       "    </tr>\n",
       "    <tr>\n",
       "      <th>25%</th>\n",
       "      <td>2.000000</td>\n",
       "      <td>5.000000</td>\n",
       "      <td>2.000000</td>\n",
       "      <td>4.000000</td>\n",
       "      <td>5.000000</td>\n",
       "      <td>0.000000</td>\n",
       "      <td>0.000000</td>\n",
       "      <td>0.000000</td>\n",
       "      <td>0.000000</td>\n",
       "      <td>0.000000</td>\n",
       "      <td>...</td>\n",
       "      <td>0.000000</td>\n",
       "      <td>0.000000</td>\n",
       "      <td>0.000000</td>\n",
       "      <td>4.000000</td>\n",
       "      <td>1.000000</td>\n",
       "      <td>2.000000</td>\n",
       "      <td>5.000000</td>\n",
       "      <td>4.000000</td>\n",
       "      <td>4.000000</td>\n",
       "      <td>NaN</td>\n",
       "    </tr>\n",
       "    <tr>\n",
       "      <th>50%</th>\n",
       "      <td>3.000000</td>\n",
       "      <td>5.000000</td>\n",
       "      <td>3.000000</td>\n",
       "      <td>5.000000</td>\n",
       "      <td>5.000000</td>\n",
       "      <td>0.000000</td>\n",
       "      <td>0.000000</td>\n",
       "      <td>0.000000</td>\n",
       "      <td>0.000000</td>\n",
       "      <td>0.000000</td>\n",
       "      <td>...</td>\n",
       "      <td>0.000000</td>\n",
       "      <td>0.000000</td>\n",
       "      <td>0.000000</td>\n",
       "      <td>4.000000</td>\n",
       "      <td>2.000000</td>\n",
       "      <td>2.000000</td>\n",
       "      <td>5.000000</td>\n",
       "      <td>5.000000</td>\n",
       "      <td>5.000000</td>\n",
       "      <td>NaN</td>\n",
       "    </tr>\n",
       "    <tr>\n",
       "      <th>75%</th>\n",
       "      <td>4.000000</td>\n",
       "      <td>5.000000</td>\n",
       "      <td>4.000000</td>\n",
       "      <td>5.000000</td>\n",
       "      <td>5.000000</td>\n",
       "      <td>2.000000</td>\n",
       "      <td>2.000000</td>\n",
       "      <td>3.000000</td>\n",
       "      <td>2.000000</td>\n",
       "      <td>4.000000</td>\n",
       "      <td>...</td>\n",
       "      <td>4.000000</td>\n",
       "      <td>3.000000</td>\n",
       "      <td>2.000000</td>\n",
       "      <td>5.000000</td>\n",
       "      <td>2.000000</td>\n",
       "      <td>4.000000</td>\n",
       "      <td>5.000000</td>\n",
       "      <td>5.000000</td>\n",
       "      <td>5.000000</td>\n",
       "      <td>NaN</td>\n",
       "    </tr>\n",
       "    <tr>\n",
       "      <th>max</th>\n",
       "      <td>15.000000</td>\n",
       "      <td>10.000000</td>\n",
       "      <td>10.000000</td>\n",
       "      <td>10.000000</td>\n",
       "      <td>7.500000</td>\n",
       "      <td>15.000000</td>\n",
       "      <td>10.000000</td>\n",
       "      <td>15.000000</td>\n",
       "      <td>15.000000</td>\n",
       "      <td>15.000000</td>\n",
       "      <td>...</td>\n",
       "      <td>15.000000</td>\n",
       "      <td>20.000000</td>\n",
       "      <td>8.000000</td>\n",
       "      <td>7.500000</td>\n",
       "      <td>8.000000</td>\n",
       "      <td>10.000000</td>\n",
       "      <td>10.000000</td>\n",
       "      <td>10.000000</td>\n",
       "      <td>10.000000</td>\n",
       "      <td>1.969694e+07</td>\n",
       "    </tr>\n",
       "  </tbody>\n",
       "</table>\n",
       "<p>8 rows × 38 columns</p>\n",
       "</div>"
      ],
      "text/plain": [
       "                  P1            P10            P11            P12  \\\n",
       "count  100137.000000  100137.000000  100137.000000  100137.000000   \n",
       "mean        4.087930       5.459011       3.311653       5.061765   \n",
       "std         2.813085       1.763709       2.067903       1.765647   \n",
       "min         1.000000       4.000000       1.000000       2.000000   \n",
       "25%         2.000000       5.000000       2.000000       4.000000   \n",
       "50%         3.000000       5.000000       3.000000       5.000000   \n",
       "75%         4.000000       5.000000       4.000000       5.000000   \n",
       "max        15.000000      10.000000      10.000000      10.000000   \n",
       "\n",
       "                 P13            P14            P15            P16  \\\n",
       "count  100137.000000  100137.000000  100137.000000  100137.000000   \n",
       "mean        5.086621       1.280276       1.305641       1.747336   \n",
       "std         0.979414       2.497106       2.167272       3.172481   \n",
       "min         3.000000       0.000000       0.000000       0.000000   \n",
       "25%         5.000000       0.000000       0.000000       0.000000   \n",
       "50%         5.000000       0.000000       0.000000       0.000000   \n",
       "75%         5.000000       2.000000       2.000000       3.000000   \n",
       "max         7.500000      15.000000      10.000000      15.000000   \n",
       "\n",
       "                 P17            P18      ...                 P35  \\\n",
       "count  100137.000000  100137.000000      ...       100137.000000   \n",
       "mean        1.156715       1.708789      ...            1.833099   \n",
       "std         2.432137       3.030907      ...            3.229052   \n",
       "min         0.000000       0.000000      ...            0.000000   \n",
       "25%         0.000000       0.000000      ...            0.000000   \n",
       "50%         0.000000       0.000000      ...            0.000000   \n",
       "75%         2.000000       4.000000      ...            4.000000   \n",
       "max        15.000000      15.000000      ...           15.000000   \n",
       "\n",
       "                 P36            P37             P4             P5  \\\n",
       "count  100137.000000  100137.000000  100137.000000  100137.000000   \n",
       "mean        1.969222       0.973696       4.395992       1.989614   \n",
       "std         3.806280       1.677427       1.035796       1.065518   \n",
       "min         0.000000       0.000000       2.000000       1.000000   \n",
       "25%         0.000000       0.000000       4.000000       1.000000   \n",
       "50%         0.000000       0.000000       4.000000       2.000000   \n",
       "75%         3.000000       2.000000       5.000000       2.000000   \n",
       "max        20.000000       8.000000       7.500000       8.000000   \n",
       "\n",
       "                  P6             P7             P8             P9  \\\n",
       "count  100137.000000  100137.000000  100137.000000  100137.000000   \n",
       "mean        2.882551       5.300678       4.931304       5.251645   \n",
       "std         1.532502       2.178739       1.718699       1.702825   \n",
       "min         1.000000       1.000000       1.000000       4.000000   \n",
       "25%         2.000000       5.000000       4.000000       4.000000   \n",
       "50%         2.000000       5.000000       5.000000       5.000000   \n",
       "75%         4.000000       5.000000       5.000000       5.000000   \n",
       "max        10.000000      10.000000      10.000000      10.000000   \n",
       "\n",
       "            revenue  \n",
       "count  1.370000e+02  \n",
       "mean   4.453533e+06  \n",
       "std    2.576072e+06  \n",
       "min    1.149870e+06  \n",
       "25%             NaN  \n",
       "50%             NaN  \n",
       "75%             NaN  \n",
       "max    1.969694e+07  \n",
       "\n",
       "[8 rows x 38 columns]"
      ]
     },
     "execution_count": 30,
     "metadata": {},
     "output_type": "execute_result"
    }
   ],
   "source": [
    "# Kaggle added approximately 311.5 \"fake\" data points to the test for each real data point. \n",
    "# Dividing by this number gives more accurate counts of the \"real\" data in the test set.\n",
    "FAKE_DATA_RATIO = 311.5\n",
    "# Set a Random Seed\n",
    "SEED = 0\n",
    "\n",
    "# Read Kaggle Provided Data\n",
    "train = pd.read_csv('data/train.csv', index_col = 0, parse_dates=[1])\n",
    "test = pd.read_csv('data/test.csv', index_col = 0, parse_dates=[1])\n",
    "\n",
    "print \"Train Dimensions:\"\n",
    "print train.shape\n",
    "print \"Test Dimensions:\"\n",
    "print test.shape\n",
    "\n",
    "# Concatenate train and test together to pre-process and featurize both consistently.\n",
    "df = pd.concat((test, train), ignore_index=True)\n",
    "df.describe()"
   ]
  },
  {
   "cell_type": "code",
   "execution_count": 31,
   "metadata": {
    "collapsed": false
   },
   "outputs": [
    {
     "data": {
      "text/plain": [
       "<matplotlib.axes._subplots.AxesSubplot at 0x166c7080>"
      ]
     },
     "execution_count": 31,
     "metadata": {},
     "output_type": "execute_result"
    },
    {
     "data": {
      "image/png": "[encoded data removed]",
      "text/plain": [
       "<matplotlib.figure.Figure at 0x122ca518>"
      ]
     },
     "metadata": {},
     "output_type": "display_data"
    }
   ],
   "source": [
    "# Convert date strings to \"days open\" numerical value\n",
    "df[\"Open Date\"] = df[\"Open Date\"].apply(pd.to_datetime)\n",
    "last_date = df[\"Open Date\"].max()\n",
    "df[\"Open Date\"] = last_date - df[\"Open Date\"] # This becomes a datetime delta object\n",
    "df[\"Open Date\"] = df[\"Open Date\"].dt.days + 1 # converts the delta object to an int\n",
    "\n",
    "# Scale \"days since opened\" so that the marginal impact decreases over time\n",
    "# This and the similar log transform of City Count below are the modifications that \n",
    "# were not in our official competition submission\n",
    "df[\"Log Days Opened\"] = df[\"Open Date\"].apply(np.log)\n",
    "df = df.drop([\"Open Date\"], axis=1)\n",
    "# pylab.rcParams['figure.figsize'] = (8, 6) # Resizes plots\n",
    "df[[\"Log Days Opened\", \"revenue\"]].plot(x=\"Log Days Opened\", y=\"revenue\", kind='scatter', title=\"Log (Days Opened) vs Revenue\")"
   ]
  },
  {
   "cell_type": "code",
   "execution_count": 32,
   "metadata": {
    "collapsed": false
   },
   "outputs": [
    {
     "name": "stdout",
     "output_type": "stream",
     "text": [
      "Distribution of new Zeros features:\n"
     ]
    },
    {
     "data": {
      "image/png": "[encoded data removed]",
      "text/plain": [
       "<matplotlib.figure.Figure at 0x166d6f60>"
      ]
     },
     "metadata": {},
     "output_type": "display_data"
    }
   ],
   "source": [
    "# Lin noticed that a certain set of columns are either all zero or all non-zero.  \n",
    "# We added a feature to mark this  - The \"zeros\" feature will be 17 for these rows\n",
    "# and 0 or 1 for the rows which are never or rarely zero.\n",
    "\n",
    "# The features with the notable zero behavior:\n",
    "zero_cols = ['P14', 'P15', 'P16', 'P17', 'P18', 'P24', 'P25', 'P26', 'P27', 'P30', 'P31', 'P32', 'P33', 'P34', 'P35', 'P36', 'P37']\n",
    "\n",
    "# We make a feature that holds this count of zero columns in the above list\n",
    "df['zeros'] = (df[zero_cols] == 0).sum(1)\n",
    "\n",
    "pylab.rcParams['figure.figsize'] = (20, 8)\n",
    "fig, axs = plt.subplots(1,2)\n",
    "\n",
    "\n",
    "print \"Distribution of new Zeros features:\"\n",
    "# We find there is only 1 row with a zero count between 0 and 17 in the train set, \n",
    "df['zeros'].ix[pd.notnull(df.revenue)].value_counts().plot(title=\"Train Set\", kind='bar', ax=axs[0])\n",
    "\n",
    "# But in the test set there are many rows with an intermediate count of zeros. \n",
    "# This is probably an artifact of how the fake test data was generated (conditional \n",
    "# dependence between columns was not preserved).\n",
    "df['zeros'].ix[pd.isnull(df.revenue)].value_counts().plot(title=\"Test Set\", kind='bar', ax=axs[1], color='red')\n",
    "plt.show()"
   ]
  },
  {
   "cell_type": "code",
   "execution_count": 33,
   "metadata": {
    "collapsed": false
   },
   "outputs": [
    {
     "data": {
      "image/png": "[encoded data removed]",
      "text/plain": [
       "<matplotlib.figure.Figure at 0x10879748>"
      ]
     },
     "metadata": {},
     "output_type": "display_data"
    },
    {
     "data": {
      "image/png": "[encoded data removed]",
      "text/plain": [
       "<matplotlib.figure.Figure at 0x15fcdb38>"
      ]
     },
     "metadata": {},
     "output_type": "display_data"
    },
    {
     "data": {
      "image/png": "[encoded data removed]",
      "text/plain": [
       "<matplotlib.figure.Figure at 0xc4acfd0>"
      ]
     },
     "metadata": {},
     "output_type": "display_data"
    },
    {
     "name": "stdout",
     "output_type": "stream",
     "text": [
      "(100137, 44)\n"
     ]
    }
   ],
   "source": [
    "# Here we convert two categorical variables, \"Restaurant Type\" and \"City Group (Size)\" \n",
    "# to dummy variables\n",
    "pylab.rcParams['figure.figsize'] = (6, 4) # Resizes plots\n",
    "\n",
    "# The two categories of City Group both appear very frequently\n",
    "train[\"City Group\"].value_counts().plot(title=\"City Group Distribution in the Train Set\", kind='bar')\n",
    "plt.show()\n",
    "\n",
    "# But two of the four Restaurant Types (DT and FC), are extremely rare\n",
    "train[\"Type\"].value_counts().plot(title=\"Restaurant Type Distribution in the Train Set\", kind='bar')\n",
    "plt.show()\n",
    "\n",
    "(test[\"Type\"].value_counts() / FAKE_DATA_RATIO).plot(title=\"Approximate Restaurant Type Distribution in True Test Set\", kind='bar', color='Red')\n",
    "plt.show()\n",
    "\n",
    "df = df.join(pd.get_dummies(df['City Group'], prefix=\"CG\"))\n",
    "df = df.join(pd.get_dummies(df['Type'], prefix=\"T\"))\n",
    "\n",
    "# Since only n-1 columns are needed to binarize n categories, drop one of the new columns.  \n",
    "# And drop the original columns.\n",
    "# And also drop the extremely rare restaurant types (which we handleed especially below)\n",
    "df = df.drop([\"City Group\", \"Type\", \"CG_Other\", \"T_MB\", \"T_DT\"], axis=1)\n",
    "print df.shape"
   ]
  },
  {
   "cell_type": "code",
   "execution_count": 34,
   "metadata": {
    "collapsed": false
   },
   "outputs": [
    {
     "name": "stdout",
     "output_type": "stream",
     "text": [
      "Some example estimated counts of restaurants per city:\n",
      "Adana             11.070626\n",
      "Afyonkarahisar     2.062600\n",
      "Aksaray            2.086677\n",
      "Amasya             1.000000\n",
      "Ankara            46.993579\n",
      "Name: City, dtype: float64\n"
     ]
    },
    {
     "data": {
      "text/plain": [
       "<matplotlib.axes._subplots.AxesSubplot at 0x12247400>"
      ]
     },
     "execution_count": 34,
     "metadata": {},
     "output_type": "execute_result"
    },
    {
     "data": {
      "image/png": "[encoded data removed]",
      "text/plain": [
       "<matplotlib.figure.Figure at 0x108796a0>"
      ]
     },
     "metadata": {},
     "output_type": "display_data"
    }
   ],
   "source": [
    "# Replace city names with\n",
    "# count of their frequency in the train + estimated frequency in the test set.\n",
    "city_counts = (test[\"City\"].value_counts() / FAKE_DATA_RATIO).add(train[\"City\"].value_counts(), fill_value=0)\n",
    "df[\"City\"] = df[\"City\"].replace(city_counts)\n",
    "print \"Some example estimated counts of restaurants per city:\"\n",
    "print city_counts.head()\n",
    "\n",
    "# Take log of city count so that the marginal effect decreases\n",
    "df[\"Log City Count\"] = df[\"City\"].apply(np.log) \n",
    "df = df.drop([\"City\"], axis=1)\n",
    "\n",
    "# That last vertical spread of points are restaurants from Istanbul.\n",
    "pylab.rcParams['figure.figsize'] = (8, 6) # Resizes plots\n",
    "df[[\"Log City Count\", \"revenue\"]].plot(x=\"Log City Count\", y=\"revenue\", kind='scatter', title=\"Log City Count vs Revenue\")"
   ]
  },
  {
   "cell_type": "code",
   "execution_count": 35,
   "metadata": {
    "collapsed": false
   },
   "outputs": [
    {
     "name": "stdout",
     "output_type": "stream",
     "text": [
      "type training set shape: (136, 44)\n",
      "data to impute: (2535, 44)\n"
     ]
    }
   ],
   "source": [
    "# Impute values for the very rare restaurant types. \n",
    "# Instead of trying to predict with values that appear only 1 or 0 times in the train set, \n",
    "# we will replace them with one of the other commonly appearing categories by fitting a \n",
    "# model that predicts which common category they \"should\" be.\n",
    "\n",
    "# tofit are the rows in the train set that belong to one of the common restaurnat types\n",
    "tofit = df.ix[((df.T_FC==1) | (df.T_IL==1)) & (pd.notnull(df.revenue))]\n",
    "# tofill are rows in either train or test that belong to one of the rare types\n",
    "tofill = df.ix[((df.T_FC==0) & (df.T_IL==0))]\n",
    "\n",
    "print \"type training set shape:\", tofit.shape\n",
    "print \"data to impute:\", tofill.shape\n",
    "\n",
    "# Resaruants with type FC are labeled 1, those with type IL are labeled 0.\n",
    "y = tofit.T_FC\n",
    "# Drop the label columns and revenue (which is not in the test set, so can't be used here)\n",
    "X = tofit.drop([\"T_FC\", \"T_IL\", \"revenue\"], axis=1)"
   ]
  },
  {
   "cell_type": "code",
   "execution_count": 36,
   "metadata": {
    "collapsed": false
   },
   "outputs": [
    {
     "name": "stdout",
     "output_type": "stream",
     "text": [
      "Best parameters for Type Model:\n",
      "{'min_samples_split': 16, 'max_features': None, 'max_depth': None, 'min_samples_leaf': 1}\n",
      "% labeled FC in the training set: 0.587874611782\n",
      "% of imputed values labeled FC: 0.699408284024\n"
     ]
    }
   ],
   "source": [
    "# Define and train a model to impute restaurant type\n",
    "# The grid below just has a range of values that I've found commonly\n",
    "# work well with random forest type models (of which ExtraTrees is one).\n",
    "model_grid = {'max_depth': [None, 8], 'min_samples_split': [4,9,16], 'min_samples_leaf':[1,4], 'max_features':['sqrt', 0.5, None]}\n",
    "type_model = ExtraTreesClassifier(n_estimators=25, random_state=SEED)\n",
    "\n",
    "grid = RandomizedSearchCV(type_model, model_grid, n_iter=10, cv=5, scoring=\"roc_auc\")\n",
    "grid.fit(X, y)\n",
    "\n",
    "print(\"Best parameters for Type Model:\")\n",
    "print(grid.best_params_)\n",
    "\n",
    "type_model.set_params(**grid.best_params_)\n",
    "type_model.fit(X, y)\n",
    "\n",
    "imputations = type_model.predict(tofill.drop([\"T_FC\", \"T_IL\", \"revenue\"], axis=1))\n",
    "df.loc[(df.T_FC==0) & (df.T_IL==0), \"T_FC\"] = imputations\n",
    "df = df.drop([\"T_IL\"], axis=1)\n",
    "\n",
    "print \"% labeled FC in the training set:\", df.T_FC.mean()\n",
    "print \"% of imputed values labeled FC:\", np.mean(imputations)"
   ]
  },
  {
   "cell_type": "code",
   "execution_count": 37,
   "metadata": {
    "collapsed": false
   },
   "outputs": [
    {
     "name": "stdout",
     "output_type": "stream",
     "text": [
      "Pre-binarizing columns: 43\n",
      "P1 9 unique values\n",
      "P10 4 unique values\n",
      "P11 8 unique values\n",
      "P12 7 unique values\n",
      "P13 5 unique values\n",
      "P14 10 unique values\n",
      "P15 9 unique values\n",
      "P16 10 unique values\n",
      "P17 10 unique values\n",
      "P18 9 unique values\n",
      "P19 9 unique values\n",
      "P2 9 unique values\n",
      "P20 9 unique values\n",
      "P21 9 unique values\n",
      "P22 5 unique values\n",
      "P23 9 unique values\n",
      "P24 9 unique values\n",
      "P25 9 unique values\n",
      "P26 10 unique values\n",
      "P27 10 unique values\n",
      "P28 9 unique values\n",
      "P29 8 unique values\n",
      "P3 8 unique values\n",
      "P30 10 unique values\n",
      "P31 10 unique values\n",
      "P32 10 unique values\n",
      "P33 7 unique values\n",
      "P34 11 unique values\n",
      "P35 8 unique values\n",
      "P36 10 unique values\n",
      "P37 8 unique values\n",
      "P4 7 unique values\n",
      "P5 7 unique values\n",
      "P6 8 unique values\n",
      "P7 7 unique values\n",
      "P8 8 unique values\n",
      "P9 5 unique values\n",
      "Post-binarizing columns: 279\n"
     ]
    }
   ],
   "source": [
    "# Now binarize the \"P\" columns with dummy variables\n",
    "print \"Pre-binarizing columns:\", len(df.columns)\n",
    "for col in df.columns:\n",
    "    if col[0] == 'P':\n",
    "        print col, len(df[col].unique()), \"unique values\"\n",
    "        df = df.join(pd.get_dummies(df[col], prefix=col))\n",
    "        df = df.drop([col, df.columns[-1]], axis=1)\n",
    "print \"Post-binarizing columns:\", len(df.columns)"
   ]
  },
  {
   "cell_type": "code",
   "execution_count": 38,
   "metadata": {
    "collapsed": false
   },
   "outputs": [
    {
     "data": {
      "text/html": [
       "<div>\n",
       "<table border=\"1\" class=\"dataframe\">\n",
       "  <thead>\n",
       "    <tr style=\"text-align: right;\">\n",
       "      <th></th>\n",
       "      <th>Log Days Opened</th>\n",
       "      <th>zeros</th>\n",
       "      <th>CG_Big Cities</th>\n",
       "      <th>T_FC</th>\n",
       "      <th>Log City Count</th>\n",
       "      <th>P1_1</th>\n",
       "      <th>P1_2</th>\n",
       "      <th>P1_3</th>\n",
       "      <th>P1_4</th>\n",
       "      <th>P1_5</th>\n",
       "      <th>...</th>\n",
       "      <th>P8_3</th>\n",
       "      <th>P8_4</th>\n",
       "      <th>P8_5</th>\n",
       "      <th>P8_6</th>\n",
       "      <th>P8_8</th>\n",
       "      <th>P9_4</th>\n",
       "      <th>P9_5</th>\n",
       "      <th>P9_6</th>\n",
       "      <th>P9_8</th>\n",
       "      <th>revenue</th>\n",
       "    </tr>\n",
       "  </thead>\n",
       "  <tbody>\n",
       "    <tr>\n",
       "      <th>count</th>\n",
       "      <td>100137.000000</td>\n",
       "      <td>100137.000000</td>\n",
       "      <td>100137.000000</td>\n",
       "      <td>100137.000000</td>\n",
       "      <td>100137.000000</td>\n",
       "      <td>100137.000000</td>\n",
       "      <td>100137.000000</td>\n",
       "      <td>100137.000000</td>\n",
       "      <td>100137.000000</td>\n",
       "      <td>100137.000000</td>\n",
       "      <td>...</td>\n",
       "      <td>100137.000000</td>\n",
       "      <td>100137.000000</td>\n",
       "      <td>100137.000000</td>\n",
       "      <td>100137.000000</td>\n",
       "      <td>100137.000000</td>\n",
       "      <td>100137.000000</td>\n",
       "      <td>100137.000000</td>\n",
       "      <td>100137.000000</td>\n",
       "      <td>100137.000000</td>\n",
       "      <td>1.370000e+02</td>\n",
       "    </tr>\n",
       "    <tr>\n",
       "      <th>mean</th>\n",
       "      <td>0.803995</td>\n",
       "      <td>0.658151</td>\n",
       "      <td>0.492825</td>\n",
       "      <td>0.587875</td>\n",
       "      <td>0.632233</td>\n",
       "      <td>0.051989</td>\n",
       "      <td>0.224752</td>\n",
       "      <td>0.228447</td>\n",
       "      <td>0.282912</td>\n",
       "      <td>0.068566</td>\n",
       "      <td>...</td>\n",
       "      <td>0.061745</td>\n",
       "      <td>0.381507</td>\n",
       "      <td>0.393970</td>\n",
       "      <td>0.015888</td>\n",
       "      <td>0.065620</td>\n",
       "      <td>0.351429</td>\n",
       "      <td>0.499396</td>\n",
       "      <td>0.003066</td>\n",
       "      <td>0.065271</td>\n",
       "      <td>4.453533e+06</td>\n",
       "    </tr>\n",
       "    <tr>\n",
       "      <th>std</th>\n",
       "      <td>0.124607</td>\n",
       "      <td>0.360692</td>\n",
       "      <td>0.499951</td>\n",
       "      <td>0.492220</td>\n",
       "      <td>0.320736</td>\n",
       "      <td>0.222005</td>\n",
       "      <td>0.417421</td>\n",
       "      <td>0.419834</td>\n",
       "      <td>0.450416</td>\n",
       "      <td>0.252716</td>\n",
       "      <td>...</td>\n",
       "      <td>0.240694</td>\n",
       "      <td>0.485759</td>\n",
       "      <td>0.488631</td>\n",
       "      <td>0.125044</td>\n",
       "      <td>0.247618</td>\n",
       "      <td>0.477419</td>\n",
       "      <td>0.500002</td>\n",
       "      <td>0.055285</td>\n",
       "      <td>0.247004</td>\n",
       "      <td>2.576072e+06</td>\n",
       "    </tr>\n",
       "    <tr>\n",
       "      <th>min</th>\n",
       "      <td>0.000000</td>\n",
       "      <td>0.000000</td>\n",
       "      <td>0.000000</td>\n",
       "      <td>0.000000</td>\n",
       "      <td>0.000000</td>\n",
       "      <td>0.000000</td>\n",
       "      <td>0.000000</td>\n",
       "      <td>0.000000</td>\n",
       "      <td>0.000000</td>\n",
       "      <td>0.000000</td>\n",
       "      <td>...</td>\n",
       "      <td>0.000000</td>\n",
       "      <td>0.000000</td>\n",
       "      <td>0.000000</td>\n",
       "      <td>0.000000</td>\n",
       "      <td>0.000000</td>\n",
       "      <td>0.000000</td>\n",
       "      <td>0.000000</td>\n",
       "      <td>0.000000</td>\n",
       "      <td>0.000000</td>\n",
       "      <td>1.149870e+06</td>\n",
       "    </tr>\n",
       "    <tr>\n",
       "      <th>25%</th>\n",
       "      <td>0.735570</td>\n",
       "      <td>0.352941</td>\n",
       "      <td>0.000000</td>\n",
       "      <td>0.000000</td>\n",
       "      <td>0.394308</td>\n",
       "      <td>0.000000</td>\n",
       "      <td>0.000000</td>\n",
       "      <td>0.000000</td>\n",
       "      <td>0.000000</td>\n",
       "      <td>0.000000</td>\n",
       "      <td>...</td>\n",
       "      <td>0.000000</td>\n",
       "      <td>0.000000</td>\n",
       "      <td>0.000000</td>\n",
       "      <td>0.000000</td>\n",
       "      <td>0.000000</td>\n",
       "      <td>0.000000</td>\n",
       "      <td>0.000000</td>\n",
       "      <td>0.000000</td>\n",
       "      <td>0.000000</td>\n",
       "      <td>NaN</td>\n",
       "    </tr>\n",
       "    <tr>\n",
       "      <th>50%</th>\n",
       "      <td>0.822789</td>\n",
       "      <td>0.764706</td>\n",
       "      <td>0.000000</td>\n",
       "      <td>1.000000</td>\n",
       "      <td>0.623604</td>\n",
       "      <td>0.000000</td>\n",
       "      <td>0.000000</td>\n",
       "      <td>0.000000</td>\n",
       "      <td>0.000000</td>\n",
       "      <td>0.000000</td>\n",
       "      <td>...</td>\n",
       "      <td>0.000000</td>\n",
       "      <td>0.000000</td>\n",
       "      <td>0.000000</td>\n",
       "      <td>0.000000</td>\n",
       "      <td>0.000000</td>\n",
       "      <td>0.000000</td>\n",
       "      <td>0.000000</td>\n",
       "      <td>0.000000</td>\n",
       "      <td>0.000000</td>\n",
       "      <td>NaN</td>\n",
       "    </tr>\n",
       "    <tr>\n",
       "      <th>75%</th>\n",
       "      <td>0.886367</td>\n",
       "      <td>1.000000</td>\n",
       "      <td>1.000000</td>\n",
       "      <td>1.000000</td>\n",
       "      <td>1.000000</td>\n",
       "      <td>0.000000</td>\n",
       "      <td>0.000000</td>\n",
       "      <td>0.000000</td>\n",
       "      <td>1.000000</td>\n",
       "      <td>0.000000</td>\n",
       "      <td>...</td>\n",
       "      <td>0.000000</td>\n",
       "      <td>1.000000</td>\n",
       "      <td>1.000000</td>\n",
       "      <td>0.000000</td>\n",
       "      <td>0.000000</td>\n",
       "      <td>1.000000</td>\n",
       "      <td>1.000000</td>\n",
       "      <td>0.000000</td>\n",
       "      <td>0.000000</td>\n",
       "      <td>NaN</td>\n",
       "    </tr>\n",
       "    <tr>\n",
       "      <th>max</th>\n",
       "      <td>1.000000</td>\n",
       "      <td>1.000000</td>\n",
       "      <td>1.000000</td>\n",
       "      <td>1.000000</td>\n",
       "      <td>1.000000</td>\n",
       "      <td>1.000000</td>\n",
       "      <td>1.000000</td>\n",
       "      <td>1.000000</td>\n",
       "      <td>1.000000</td>\n",
       "      <td>1.000000</td>\n",
       "      <td>...</td>\n",
       "      <td>1.000000</td>\n",
       "      <td>1.000000</td>\n",
       "      <td>1.000000</td>\n",
       "      <td>1.000000</td>\n",
       "      <td>1.000000</td>\n",
       "      <td>1.000000</td>\n",
       "      <td>1.000000</td>\n",
       "      <td>1.000000</td>\n",
       "      <td>1.000000</td>\n",
       "      <td>1.969694e+07</td>\n",
       "    </tr>\n",
       "  </tbody>\n",
       "</table>\n",
       "<p>8 rows × 279 columns</p>\n",
       "</div>"
      ],
      "text/plain": [
       "       Log Days Opened          zeros  CG_Big Cities           T_FC  \\\n",
       "count    100137.000000  100137.000000  100137.000000  100137.000000   \n",
       "mean          0.803995       0.658151       0.492825       0.587875   \n",
       "std           0.124607       0.360692       0.499951       0.492220   \n",
       "min           0.000000       0.000000       0.000000       0.000000   \n",
       "25%           0.735570       0.352941       0.000000       0.000000   \n",
       "50%           0.822789       0.764706       0.000000       1.000000   \n",
       "75%           0.886367       1.000000       1.000000       1.000000   \n",
       "max           1.000000       1.000000       1.000000       1.000000   \n",
       "\n",
       "       Log City Count           P1_1           P1_2           P1_3  \\\n",
       "count   100137.000000  100137.000000  100137.000000  100137.000000   \n",
       "mean         0.632233       0.051989       0.224752       0.228447   \n",
       "std          0.320736       0.222005       0.417421       0.419834   \n",
       "min          0.000000       0.000000       0.000000       0.000000   \n",
       "25%          0.394308       0.000000       0.000000       0.000000   \n",
       "50%          0.623604       0.000000       0.000000       0.000000   \n",
       "75%          1.000000       0.000000       0.000000       0.000000   \n",
       "max          1.000000       1.000000       1.000000       1.000000   \n",
       "\n",
       "                P1_4           P1_5      ...                P8_3  \\\n",
       "count  100137.000000  100137.000000      ...       100137.000000   \n",
       "mean        0.282912       0.068566      ...            0.061745   \n",
       "std         0.450416       0.252716      ...            0.240694   \n",
       "min         0.000000       0.000000      ...            0.000000   \n",
       "25%         0.000000       0.000000      ...            0.000000   \n",
       "50%         0.000000       0.000000      ...            0.000000   \n",
       "75%         1.000000       0.000000      ...            0.000000   \n",
       "max         1.000000       1.000000      ...            1.000000   \n",
       "\n",
       "                P8_4           P8_5           P8_6           P8_8  \\\n",
       "count  100137.000000  100137.000000  100137.000000  100137.000000   \n",
       "mean        0.381507       0.393970       0.015888       0.065620   \n",
       "std         0.485759       0.488631       0.125044       0.247618   \n",
       "min         0.000000       0.000000       0.000000       0.000000   \n",
       "25%         0.000000       0.000000       0.000000       0.000000   \n",
       "50%         0.000000       0.000000       0.000000       0.000000   \n",
       "75%         1.000000       1.000000       0.000000       0.000000   \n",
       "max         1.000000       1.000000       1.000000       1.000000   \n",
       "\n",
       "                P9_4           P9_5           P9_6           P9_8  \\\n",
       "count  100137.000000  100137.000000  100137.000000  100137.000000   \n",
       "mean        0.351429       0.499396       0.003066       0.065271   \n",
       "std         0.477419       0.500002       0.055285       0.247004   \n",
       "min         0.000000       0.000000       0.000000       0.000000   \n",
       "25%         0.000000       0.000000       0.000000       0.000000   \n",
       "50%         0.000000       0.000000       0.000000       0.000000   \n",
       "75%         1.000000       1.000000       0.000000       0.000000   \n",
       "max         1.000000       1.000000       1.000000       1.000000   \n",
       "\n",
       "            revenue  \n",
       "count  1.370000e+02  \n",
       "mean   4.453533e+06  \n",
       "std    2.576072e+06  \n",
       "min    1.149870e+06  \n",
       "25%             NaN  \n",
       "50%             NaN  \n",
       "75%             NaN  \n",
       "max    1.969694e+07  \n",
       "\n",
       "[8 rows x 279 columns]"
      ]
     },
     "execution_count": 38,
     "metadata": {},
     "output_type": "execute_result"
    }
   ],
   "source": [
    "# Scale all input features to between 0 and 1, critical to do this for KNN or SVR models.\n",
    "min_max_scaler = MinMaxScaler()\n",
    "\n",
    "# Don't scale the output - drop it temporarily\n",
    "rev = df.revenue\n",
    "df = df.drop(['revenue'], axis=1)\n",
    "\n",
    "df = pd.DataFrame(data = min_max_scaler.fit_transform(df), columns = df.columns, index=df.index)\n",
    "df = df.join(rev)\n",
    "\n",
    "# Done with preprocessing. Let's take a last look at the data before modeling with it.\n",
    "df.describe()"
   ]
  },
  {
   "cell_type": "code",
   "execution_count": 39,
   "metadata": {
    "collapsed": true
   },
   "outputs": [],
   "source": [
    "\n",
    "# Recover original train/train rows based on revenue (which is null for test rows)\n",
    "train = df.ix[pd.notnull(df.revenue)]\n",
    "test = df.ix[pd.isnull(df.revenue)].drop(['revenue'], axis=1)\n",
    "\n",
    "# Scale revenue by sqrt. \n",
    "# The purpose is to decrease the influence of the few very large revenue values.\n",
    "y = train.revenue.apply(np.sqrt)\n",
    "X = train.drop([\"revenue\"], axis=1)"
   ]
  },
  {
   "cell_type": "code",
   "execution_count": 40,
   "metadata": {
    "collapsed": false
   },
   "outputs": [
    {
     "name": "stdout",
     "output_type": "stream",
     "text": [
      "Best parameters set found on development set:\n",
      "{'normalize': True, 'alpha': 4.0949150623804256}\n"
     ]
    },
    {
     "data": {
      "text/plain": [
       "Ridge(alpha=4.0949150623804256, copy_X=True, fit_intercept=True,\n",
       "   max_iter=None, normalize=True, random_state=None, solver='auto',\n",
       "   tol=0.001)"
      ]
     },
     "execution_count": 40,
     "metadata": {},
     "output_type": "execute_result"
    }
   ],
   "source": [
    "# Now define and train a Ridge Regression model. We tested others from the sklearn package:\n",
    "# SVR, RandomForest, K-nearest Neighbors, but found Ridge consistantly gave the strongest \n",
    "# leaderboard results. When training data is small, simplest is often best.\n",
    "model_grid = [{'normalize': [True, False], 'alpha': np.logspace(0,10)}]\n",
    "model = Ridge()\n",
    "\n",
    "# Use a grid search and leave-one-out CV on the train set to find the best regularization parameter to use.\n",
    "# (might take a minute or two)\n",
    "grid = GridSearchCV(model, model_grid, cv=LeaveOneOut(len(y)), scoring='mean_squared_error')\n",
    "grid.fit(X, y)\n",
    "print(\"Best parameters set found on development set:\")\n",
    "print(grid.best_params_)\n",
    "\n",
    "# Re-train on full training set using the best parameters found in the last step.\n",
    "model.set_params(**grid.best_params_)\n",
    "model.fit(X, y)"
   ]
  },
  {
   "cell_type": "code",
   "execution_count": 41,
   "metadata": {
    "collapsed": false
   },
   "outputs": [
    {
     "data": {
      "text/html": [
       "<div>\n",
       "<table border=\"1\" class=\"dataframe\">\n",
       "  <thead>\n",
       "    <tr style=\"text-align: right;\">\n",
       "      <th></th>\n",
       "      <th>Prediction</th>\n",
       "    </tr>\n",
       "  </thead>\n",
       "  <tbody>\n",
       "    <tr>\n",
       "      <th>count</th>\n",
       "      <td>100000</td>\n",
       "    </tr>\n",
       "    <tr>\n",
       "      <th>mean</th>\n",
       "      <td>4306105</td>\n",
       "    </tr>\n",
       "    <tr>\n",
       "      <th>std</th>\n",
       "      <td>644275</td>\n",
       "    </tr>\n",
       "    <tr>\n",
       "      <th>min</th>\n",
       "      <td>2180202</td>\n",
       "    </tr>\n",
       "    <tr>\n",
       "      <th>25%</th>\n",
       "      <td>3880536</td>\n",
       "    </tr>\n",
       "    <tr>\n",
       "      <th>50%</th>\n",
       "      <td>4246704</td>\n",
       "    </tr>\n",
       "    <tr>\n",
       "      <th>75%</th>\n",
       "      <td>4653140</td>\n",
       "    </tr>\n",
       "    <tr>\n",
       "      <th>max</th>\n",
       "      <td>8874955</td>\n",
       "    </tr>\n",
       "  </tbody>\n",
       "</table>\n",
       "</div>"
      ],
      "text/plain": [
       "       Prediction\n",
       "count      100000\n",
       "mean      4306105\n",
       "std        644275\n",
       "min       2180202\n",
       "25%       3880536\n",
       "50%       4246704\n",
       "75%       4653140\n",
       "max       8874955"
      ]
     },
     "execution_count": 41,
     "metadata": {},
     "output_type": "execute_result"
    }
   ],
   "source": [
    "# Predict on the test set with the trained model.\n",
    "submission = pd.DataFrame(columns=['Prediction'],index=test.index, data=model.predict(test))\n",
    "# Convert back to revenue from sqrt(revenue)\n",
    "submission.Prediction = submission.Prediction.apply(np.square)\n",
    "# Add required column name for Kaggle's submission parser:\n",
    "submission.index.name='Id'\n",
    "# Write out the submission\n",
    "submission.to_csv(\"TFI_Ridge.csv\")\n",
    "# Quick sanity check on the submission\n",
    "submission.describe().astype(int)"
   ]
  },
  {
   "cell_type": "code",
   "execution_count": 42,
   "metadata": {
    "collapsed": false
   },
   "outputs": [
    {
     "data": {
      "text/html": [
       "<div>\n",
       "<table border=\"1\" class=\"dataframe\">\n",
       "  <thead>\n",
       "    <tr style=\"text-align: right;\">\n",
       "      <th></th>\n",
       "      <th>revenue</th>\n",
       "    </tr>\n",
       "  </thead>\n",
       "  <tbody>\n",
       "    <tr>\n",
       "      <th>count</th>\n",
       "      <td>137</td>\n",
       "    </tr>\n",
       "    <tr>\n",
       "      <th>mean</th>\n",
       "      <td>4453532</td>\n",
       "    </tr>\n",
       "    <tr>\n",
       "      <th>std</th>\n",
       "      <td>2576071</td>\n",
       "    </tr>\n",
       "    <tr>\n",
       "      <th>min</th>\n",
       "      <td>1149870</td>\n",
       "    </tr>\n",
       "    <tr>\n",
       "      <th>25%</th>\n",
       "      <td>2999068</td>\n",
       "    </tr>\n",
       "    <tr>\n",
       "      <th>50%</th>\n",
       "      <td>3939804</td>\n",
       "    </tr>\n",
       "    <tr>\n",
       "      <th>75%</th>\n",
       "      <td>5166635</td>\n",
       "    </tr>\n",
       "    <tr>\n",
       "      <th>max</th>\n",
       "      <td>19696939</td>\n",
       "    </tr>\n",
       "  </tbody>\n",
       "</table>\n",
       "</div>"
      ],
      "text/plain": [
       "        revenue\n",
       "count       137\n",
       "mean    4453532\n",
       "std     2576071\n",
       "min     1149870\n",
       "25%     2999068\n",
       "50%     3939804\n",
       "75%     5166635\n",
       "max    19696939"
      ]
     },
     "execution_count": 42,
     "metadata": {},
     "output_type": "execute_result"
    }
   ],
   "source": [
    "# Revenue from train set for comparison\n",
    "train[['revenue']].describe().astype(int)"
   ]
  },
  {
   "cell_type": "code",
   "execution_count": 43,
   "metadata": {
    "collapsed": false
   },
   "outputs": [
    {
     "data": {
      "image/png": "[encoded data removed]",
      "text/plain": [
       "<matplotlib.figure.Figure at 0x1043d358>"
      ]
     },
     "metadata": {},
     "output_type": "display_data"
    },
    {
     "data": {
      "image/png": "[encoded data removed]",
      "text/plain": [
       "<matplotlib.figure.Figure at 0x1043d470>"
      ]
     },
     "metadata": {},
     "output_type": "display_data"
    }
   ],
   "source": [
    "# Another quick comparision. Note the x-axis scale change: the predictions are \n",
    "# more conservative and tend to be closer to the mean than the real revenues. \n",
    "# This is pretty standard behavior when using RMSE - there are big penalties for \n",
    "# being very wrong, so the model will tend towards more moderate predictions.\n",
    "train[['revenue']].plot(kind='kde', title=\"Train Revenue Distribution\")\n",
    "submission.columns = [\"predicted revenue\"]\n",
    "submission.plot(kind='kde', title=\"Prediction Revenue Distribution\", color='r')\n",
    "plt.show()"
   ]
  },
  {
   "cell_type": "code",
   "execution_count": null,
   "metadata": {
    "collapsed": true
   },
   "outputs": [],
   "source": []
  }
 ],
 "metadata": {
  "anaconda-cloud": {},
  "kernelspec": {
   "display_name": "Python [conda root]",
   "language": "python",
   "name": "conda-root-py"
  },
  "language_info": {
   "codemirror_mode": {
    "name": "ipython",
    "version": 2
   },
   "file_extension": ".py",
   "mimetype": "text/x-python",
   "name": "python",
   "nbconvert_exporter": "python",
   "pygments_lexer": "ipython2",
   "version": "2.7.12"
  }
 },
 "nbformat": 4,
 "nbformat_minor": 1
}
